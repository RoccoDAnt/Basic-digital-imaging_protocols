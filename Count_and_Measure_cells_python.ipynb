{
 "cells": [
  {
   "cell_type": "code",
   "execution_count": null,
   "id": "16c29c07-9085-4bdd-8b46-8553d320faa9",
   "metadata": {},
   "outputs": [],
   "source": [
    "# Protocol 4.4.C: Use Coding to Count and Measure Cells—Level: Advanced\n",
    "# D’Antuono, R. (2022). \n",
    "# Basic Digital Image Acquisition, Design, Processing, Analysis, Management, and Presentation. \n",
    "# In: Nechyporuk-Zloy, V. (eds) Principles of Light Microscopy: From Basic to Advanced . Springer, Cham. \n",
    "# https://doi.org/10.1007/978-3-031-04477-9_4"
   ]
  },
  {
   "cell_type": "code",
   "execution_count": null,
   "id": "2b0c0400-caee-4588-a693-7d5ebf356442",
   "metadata": {},
   "outputs": [],
   "source": [
    "# Image from: https://doi.org/10.5281/zenodo.8228041"
   ]
  },
  {
   "cell_type": "code",
   "execution_count": null,
   "id": "375634fe-bd9e-4dc4-b8df-fe37d21b8c5f",
   "metadata": {},
   "outputs": [],
   "source": [
    "from skimage import io, measure\n",
    "import pandas as pd\n",
    "import matplotlib.pyplot as plt"
   ]
  },
  {
   "cell_type": "code",
   "execution_count": null,
   "id": "badaea94-cd02-4379-906b-c612b89a7688",
   "metadata": {},
   "outputs": [],
   "source": [
    "myImage=io.imread('Documents/images/HeLa-20Xdry-DAPI_300ms.tif')\n",
    "binary=myImage>250.0 \n",
    "labelled=measure.label(binary)\n",
    "properties=skimage.measure.regionprops_table(labelled,\n",
    "  myImage,properties=['area','equivalent_diameter','mean_intensity','centroid'])\n",
    "properties_df=pd.DataFrame(properties)"
   ]
  },
  {
   "cell_type": "code",
   "execution_count": null,
   "id": "19813c98-2872-41dd-a479-33101fe1349a",
   "metadata": {},
   "outputs": [],
   "source": [
    "fig, (ax1, ax2) = plt.subplots(1, 2)\n",
    "plt.subplots_adjust(wspace = 0.3)\n",
    "ax1.imshow(myImage, cmap='gray')\n",
    "cmap = plt.cm.prism\n",
    "cmap.set_under(color='black')\n",
    "ax2.imshow(labelled, cmap, vmin=0.1)"
   ]
  },
  {
   "cell_type": "code",
   "execution_count": null,
   "id": "c71405a8-f40e-4479-8a32-7fecfa925693",
   "metadata": {},
   "outputs": [],
   "source": [
    "for index in properties_df.index:\n",
    "    ax2.text(properties_df['centroid-1'][index],properties_df['centroid-0']\n",
    "      [index], index, color='white') "
   ]
  },
  {
   "cell_type": "code",
   "execution_count": null,
   "id": "fb5a3536-f03c-4739-8cda-5623843c2278",
   "metadata": {},
   "outputs": [],
   "source": [
    "properties_df"
   ]
  }
 ],
 "metadata": {
  "kernelspec": {
   "display_name": "Python 3 (ipykernel)",
   "language": "python",
   "name": "python3"
  },
  "language_info": {
   "codemirror_mode": {
    "name": "ipython",
    "version": 3
   },
   "file_extension": ".py",
   "mimetype": "text/x-python",
   "name": "python",
   "nbconvert_exporter": "python",
   "pygments_lexer": "ipython3",
   "version": "3.9.16"
  }
 },
 "nbformat": 4,
 "nbformat_minor": 5
}
