{
 "cells": [
  {
   "cell_type": "code",
   "execution_count": null,
   "id": "1d4ab367-7d07-4906-ad87-9dc45545cbce",
   "metadata": {},
   "outputs": [],
   "source": [
    "# Table 4.2\n",
    "# D’Antuono, R. (2022). \n",
    "# Basic Digital Image Acquisition, Design, Processing, Analysis, Management, and Presentation. \n",
    "# In: Nechyporuk-Zloy, V. (eds) Principles of Light Microscopy: From Basic to Advanced . Springer, Cham. \n",
    "# https://doi.org/10.1007/978-3-031-04477-9_4\n"
   ]
  },
  {
   "cell_type": "code",
   "execution_count": null,
   "id": "46eb357f-68c8-4a1e-a0c8-5385c278a63e",
   "metadata": {},
   "outputs": [],
   "source": [
    "# Image data: \n",
    "# 3D image data - High-Resolution Episcopic Microscopy (HREM - Mouse Embryo)\n",
    "# https://doi.org/10.5281/zenodo.8222707"
   ]
  },
  {
   "cell_type": "code",
   "execution_count": null,
   "id": "66cd9e36-8b66-4ca5-9e26-03fed73f6f80",
   "metadata": {},
   "outputs": [],
   "source": [
    "# Skip if already have installed napari\n",
    "# conda create -y -n napari-env python=3.8\n",
    "# conda activate napari-env\n",
    "# pip install \"napari[all]\""
   ]
  },
  {
   "cell_type": "code",
   "execution_count": null,
   "id": "9d85cfbe-6222-48cd-8519-132641b51e49",
   "metadata": {},
   "outputs": [],
   "source": [
    "%gui qt"
   ]
  },
  {
   "cell_type": "code",
   "execution_count": null,
   "id": "386c29cd-5359-412a-abaf-34b94467b338",
   "metadata": {},
   "outputs": [],
   "source": [
    "from skimage import io\n",
    "myImage = io.imread('Documents/data/Mouse_embryo_HREM.tif')              "
   ]
  },
  {
   "cell_type": "code",
   "execution_count": null,
   "id": "9d879f5a-2d25-4ca1-906b-c3ae42c37607",
   "metadata": {},
   "outputs": [],
   "source": [
    "import napari\n",
    "viewer = napari.Viewer(ndisplay=3)\n",
    "viewer.add_image(myImage, rgb=False)"
   ]
  }
 ],
 "metadata": {
  "kernelspec": {
   "display_name": "Python 3 (ipykernel)",
   "language": "python",
   "name": "python3"
  },
  "language_info": {
   "codemirror_mode": {
    "name": "ipython",
    "version": 3
   },
   "file_extension": ".py",
   "mimetype": "text/x-python",
   "name": "python",
   "nbconvert_exporter": "python",
   "pygments_lexer": "ipython3",
   "version": "3.9.16"
  }
 },
 "nbformat": 4,
 "nbformat_minor": 5
}
